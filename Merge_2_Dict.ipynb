{
  "cells": [
    {
      "cell_type": "markdown",
      "metadata": {
        "id": "view-in-github",
        "colab_type": "text"
      },
      "source": [
        "<a href=\"https://colab.research.google.com/github/vanditasharma777/Python_Data_Structure_Practice_Problems/blob/main/Merge_2_Dict.ipynb\" target=\"_parent\"><img src=\"https://colab.research.google.com/assets/colab-badge.svg\" alt=\"Open In Colab\"/></a>"
      ]
    },
    {
      "cell_type": "markdown",
      "metadata": {
        "id": "_e0u0qOLj5Ib"
      },
      "source": [
        "### Merge two Python dictionaries into one"
      ]
    },
    {
      "cell_type": "code",
      "execution_count": 1,
      "metadata": {
        "colab": {
          "base_uri": "https://localhost:8080/"
        },
        "id": "4_PKH6QTj5Ig",
        "outputId": "9ca3b5af-3bbd-48b5-d9c4-e92922dbb45a"
      },
      "outputs": [
        {
          "output_type": "execute_result",
          "data": {
            "text/plain": [
              "{'1': 'plant', '2': 'sparrow', '3': 'kite'}"
            ]
          },
          "metadata": {},
          "execution_count": 1
        }
      ],
      "source": [
        "Dict1 = {\"1\":\"plant\", \"2\":\"sparrow\", \"3\":\"kite\"}\n",
        "Dict1"
      ]
    },
    {
      "cell_type": "code",
      "execution_count": 2,
      "metadata": {
        "colab": {
          "base_uri": "https://localhost:8080/"
        },
        "id": "KAbr5y4dj5Ii",
        "outputId": "bb2357de-a4a9-4717-ce9d-a79d098a43e9"
      },
      "outputs": [
        {
          "output_type": "execute_result",
          "data": {
            "text/plain": [
              "{'4': 'trees', '5': 'parrot', '6': 'River'}"
            ]
          },
          "metadata": {},
          "execution_count": 2
        }
      ],
      "source": [
        "Dict2={\"4\":\"trees\",\"5\":\"parrot\", \"6\":\"River\"}\n",
        "Dict2"
      ]
    },
    {
      "cell_type": "code",
      "execution_count": 3,
      "metadata": {
        "id": "45rlowsEj5Ij"
      },
      "outputs": [],
      "source": [
        "Dict1.update(Dict2)"
      ]
    },
    {
      "cell_type": "code",
      "execution_count": 4,
      "metadata": {
        "colab": {
          "base_uri": "https://localhost:8080/"
        },
        "id": "Zm3o-qmoj5Ij",
        "outputId": "0899f270-fbe7-45d1-c1eb-e3ad0cdda161"
      },
      "outputs": [
        {
          "output_type": "stream",
          "name": "stdout",
          "text": [
            "{'1': 'plant', '2': 'sparrow', '3': 'kite', '4': 'trees', '5': 'parrot', '6': 'River'}\n"
          ]
        }
      ],
      "source": [
        "print(Dict1)"
      ]
    }
  ],
  "metadata": {
    "kernelspec": {
      "display_name": "Python 3",
      "language": "python",
      "name": "python3"
    },
    "language_info": {
      "codemirror_mode": {
        "name": "ipython",
        "version": 3
      },
      "file_extension": ".py",
      "mimetype": "text/x-python",
      "name": "python",
      "nbconvert_exporter": "python",
      "pygments_lexer": "ipython3",
      "version": "3.6.5"
    },
    "colab": {
      "provenance": [],
      "collapsed_sections": [],
      "include_colab_link": true
    }
  },
  "nbformat": 4,
  "nbformat_minor": 0
}