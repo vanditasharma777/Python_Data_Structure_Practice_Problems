{
  "cells": [
    {
      "cell_type": "markdown",
      "metadata": {
        "id": "view-in-github",
        "colab_type": "text"
      },
      "source": [
        "<a href=\"https://colab.research.google.com/github/vanditasharma777/Python_Data_Structure_Practice_Problems/blob/main/add_remove_items_list.ipynb\" target=\"_parent\"><img src=\"https://colab.research.google.com/assets/colab-badge.svg\" alt=\"Open In Colab\"/></a>"
      ]
    },
    {
      "cell_type": "markdown",
      "metadata": {
        "id": "g5WsburoU69c"
      },
      "source": [
        "### Remove and add item in a list"
      ]
    },
    {
      "cell_type": "code",
      "execution_count": null,
      "metadata": {
        "id": "Kpckn0E8U69j",
        "outputId": "73c21e92-f00d-4bb1-ec92-2f98f2e100a1"
      },
      "outputs": [
        {
          "name": "stdout",
          "output_type": "stream",
          "text": [
            "['a', 'b', 'c', 'd']\n"
          ]
        }
      ],
      "source": [
        "List1 = ['a', 'b', 'c','d']\n",
        "print(List1)"
      ]
    },
    {
      "cell_type": "code",
      "execution_count": null,
      "metadata": {
        "id": "YzazO5o5U69m",
        "outputId": "d524c883-0df5-41d3-a7a8-1daf3782140a"
      },
      "outputs": [
        {
          "name": "stdout",
          "output_type": "stream",
          "text": [
            "['a', 'e', 'b', 'c', 'd']\n"
          ]
        }
      ],
      "source": [
        "# insert element at 1st index\n",
        "List1.insert(1,'e')\n",
        "print(List1)"
      ]
    },
    {
      "cell_type": "code",
      "execution_count": null,
      "metadata": {
        "id": "n0G8MV3aU69o"
      },
      "outputs": [],
      "source": [
        "List1.insert(-1,\"v\")"
      ]
    },
    {
      "cell_type": "code",
      "execution_count": null,
      "metadata": {
        "id": "pq7vXTYNU69p",
        "outputId": "2bb053c3-887f-4bba-c0a2-3ca9d63a810c"
      },
      "outputs": [
        {
          "data": {
            "text/plain": [
              "['a', 'e', 'b', 'c', 'v', 'd']"
            ]
          },
          "execution_count": 11,
          "metadata": {},
          "output_type": "execute_result"
        }
      ],
      "source": [
        "List1"
      ]
    },
    {
      "cell_type": "code",
      "execution_count": null,
      "metadata": {
        "id": "NbxfZ4o5U69q",
        "outputId": "59a4a843-e4ab-4c9c-8fce-7e62de109640"
      },
      "outputs": [
        {
          "name": "stdout",
          "output_type": "stream",
          "text": [
            "['a', 'e', 'b', 'c', 'd', 'v']\n"
          ]
        }
      ],
      "source": [
        "# add element at end of the list\n",
        "List1.append('v')\n",
        "print(List1)"
      ]
    },
    {
      "cell_type": "code",
      "execution_count": null,
      "metadata": {
        "id": "DIhGuQV4U69r",
        "outputId": "cf8b445c-f044-421d-a3d0-7a9157e6fee2"
      },
      "outputs": [
        {
          "name": "stdout",
          "output_type": "stream",
          "text": [
            "['a', 'e', 'b', 'c', 'd']\n"
          ]
        }
      ],
      "source": [
        "#delete element from the end of a list\n",
        "List1.pop()\n",
        "print(List1)"
      ]
    },
    {
      "cell_type": "code",
      "execution_count": null,
      "metadata": {
        "id": "J4k55xrVU69s"
      },
      "outputs": [],
      "source": [
        "k = List1.pop(2)"
      ]
    },
    {
      "cell_type": "code",
      "execution_count": null,
      "metadata": {
        "id": "wk9Fjb0kU69t",
        "outputId": "61549188-8265-44ac-9cc7-abcb8e0f5424"
      },
      "outputs": [
        {
          "name": "stdout",
          "output_type": "stream",
          "text": [
            "['a', 'e', 'c', 'd']\n"
          ]
        }
      ],
      "source": [
        "#remove specific element from list\n",
        "List1.remove('b')\n",
        "print(List1)"
      ]
    },
    {
      "cell_type": "code",
      "execution_count": null,
      "metadata": {
        "id": "a_3gKIlBU69u",
        "outputId": "395c3b58-baad-404f-8497-3118436d2ea5"
      },
      "outputs": [
        {
          "data": {
            "text/plain": [
              "'c'"
            ]
          },
          "execution_count": 14,
          "metadata": {},
          "output_type": "execute_result"
        }
      ],
      "source": [
        "k"
      ]
    },
    {
      "cell_type": "code",
      "execution_count": null,
      "metadata": {
        "id": "Ve3n41_lU69v",
        "outputId": "e54d78a4-5319-4194-f18f-2ec80e5d3ae8"
      },
      "outputs": [
        {
          "data": {
            "text/plain": [
              "['a', 'e', 'v', 'd']"
            ]
          },
          "execution_count": 15,
          "metadata": {},
          "output_type": "execute_result"
        }
      ],
      "source": [
        "List1"
      ]
    },
    {
      "cell_type": "code",
      "execution_count": null,
      "metadata": {
        "id": "igU85JyoU69w"
      },
      "outputs": [],
      "source": []
    }
  ],
  "metadata": {
    "kernelspec": {
      "display_name": "Python 3",
      "language": "python",
      "name": "python3"
    },
    "language_info": {
      "codemirror_mode": {
        "name": "ipython",
        "version": 3
      },
      "file_extension": ".py",
      "mimetype": "text/x-python",
      "name": "python",
      "nbconvert_exporter": "python",
      "pygments_lexer": "ipython3",
      "version": "3.6.5"
    },
    "colab": {
      "provenance": [],
      "include_colab_link": true
    }
  },
  "nbformat": 4,
  "nbformat_minor": 0
}