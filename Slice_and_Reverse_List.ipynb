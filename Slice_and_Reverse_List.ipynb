{
  "cells": [
    {
      "cell_type": "markdown",
      "metadata": {
        "id": "view-in-github",
        "colab_type": "text"
      },
      "source": [
        "<a href=\"https://colab.research.google.com/github/vanditasharma777/Python_Data_Structure_Practice_Problems/blob/main/Slice_and_Reverse_List.ipynb\" target=\"_parent\"><img src=\"https://colab.research.google.com/assets/colab-badge.svg\" alt=\"Open In Colab\"/></a>"
      ]
    },
    {
      "cell_type": "markdown",
      "metadata": {
        "id": "bh0IrpELYNQU"
      },
      "source": [
        "### Slice list into 3 equal chunks and reverse each chunk"
      ]
    },
    {
      "cell_type": "code",
      "execution_count": 1,
      "metadata": {
        "colab": {
          "base_uri": "https://localhost:8080/"
        },
        "id": "PPrerQt5YNQZ",
        "outputId": "dd6f856e-a544-4ae2-e596-b2c1d4b3868f"
      },
      "outputs": [
        {
          "output_type": "stream",
          "name": "stdout",
          "text": [
            "['Toc', 'DM', 'EM', 'Programming', 'DSA', 'OS', 'COA', 'DLD', 'python']\n"
          ]
        }
      ],
      "source": [
        "course = ['Toc', 'DM', 'EM', 'Programming', 'DSA', 'OS','COA', 'DLD', 'python']\n",
        "print(course)"
      ]
    },
    {
      "cell_type": "code",
      "execution_count": 2,
      "metadata": {
        "colab": {
          "base_uri": "https://localhost:8080/"
        },
        "id": "EgssKY8cYNQc",
        "outputId": "757f6d12-69fc-49e1-a2a8-58df45eb4022"
      },
      "outputs": [
        {
          "output_type": "stream",
          "name": "stdout",
          "text": [
            "['Toc', 'Programming', 'COA'] ['DM', 'DSA', 'DLD'] ['EM', 'OS', 'python']\n"
          ]
        }
      ],
      "source": [
        "ch1,ch2,ch3 = course[0::3],course[1::3],course[2::3]\n",
        "print (ch1,ch2,ch3)"
      ]
    },
    {
      "cell_type": "code",
      "execution_count": 3,
      "metadata": {
        "colab": {
          "base_uri": "https://localhost:8080/"
        },
        "id": "_J1gUYNUYNQc",
        "outputId": "2240fba6-0b4a-42d0-fc12-1db3820df847"
      },
      "outputs": [
        {
          "output_type": "execute_result",
          "data": {
            "text/plain": [
              "(['Toc', 'Programming', 'COA'], ['DM', 'DSA', 'DLD'], ['EM', 'OS', 'python'])"
            ]
          },
          "metadata": {},
          "execution_count": 3
        }
      ],
      "source": [
        "ch1,ch2,ch3\n"
      ]
    },
    {
      "cell_type": "code",
      "source": [
        "ch1.reverse()\n",
        "ch2.reverse()\n",
        "ch3.reverse()"
      ],
      "metadata": {
        "id": "LyQ4zgYMYyM_"
      },
      "execution_count": 6,
      "outputs": []
    },
    {
      "cell_type": "code",
      "source": [
        "ch1,ch2,ch3"
      ],
      "metadata": {
        "colab": {
          "base_uri": "https://localhost:8080/"
        },
        "id": "OO_u3BhmY6e3",
        "outputId": "f5fe1387-c48d-47c8-d2b5-bb781ce68924"
      },
      "execution_count": 7,
      "outputs": [
        {
          "output_type": "execute_result",
          "data": {
            "text/plain": [
              "(['COA', 'Programming', 'Toc'], ['DLD', 'DSA', 'DM'], ['python', 'OS', 'EM'])"
            ]
          },
          "metadata": {},
          "execution_count": 7
        }
      ]
    }
  ],
  "metadata": {
    "kernelspec": {
      "display_name": "Python 3",
      "language": "python",
      "name": "python3"
    },
    "language_info": {
      "codemirror_mode": {
        "name": "ipython",
        "version": 3
      },
      "file_extension": ".py",
      "mimetype": "text/x-python",
      "name": "python",
      "nbconvert_exporter": "python",
      "pygments_lexer": "ipython3",
      "version": "3.6.5"
    },
    "colab": {
      "provenance": [],
      "collapsed_sections": [],
      "include_colab_link": true
    }
  },
  "nbformat": 4,
  "nbformat_minor": 0
}