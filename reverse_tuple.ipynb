{
  "cells": [
    {
      "cell_type": "markdown",
      "metadata": {
        "id": "view-in-github",
        "colab_type": "text"
      },
      "source": [
        "<a href=\"https://colab.research.google.com/github/vanditasharma777/Python_Data_Structure_Practice_Problems/blob/main/reverse_tuple.ipynb\" target=\"_parent\"><img src=\"https://colab.research.google.com/assets/colab-badge.svg\" alt=\"Open In Colab\"/></a>"
      ]
    },
    {
      "cell_type": "markdown",
      "metadata": {
        "id": "3WpVWlfZYBsc"
      },
      "source": [
        "# Reverse Element in a tuple\n",
        "\n",
        "Tuples are immutable, i.e. tuples cannot be changed, the only way to reverse a tuple is to create a new tuple with the desired order of items."
      ]
    },
    {
      "cell_type": "code",
      "execution_count": 1,
      "metadata": {
        "colab": {
          "base_uri": "https://localhost:8080/"
        },
        "id": "wJ01tJqoYBsi",
        "outputId": "32e6a63c-e7e1-4b90-b89d-561f40f49d5a"
      },
      "outputs": [
        {
          "output_type": "stream",
          "name": "stdout",
          "text": [
            "('12', '34', 'sage', 'cage', 'a', 'vision', '7')\n"
          ]
        }
      ],
      "source": [
        "tup1 = (\"12\", \"34\", \"sage\", \"cage\", \"a\", \"vision\", \"7\")\n",
        "print(tup1)"
      ]
    },
    {
      "cell_type": "code",
      "execution_count": 2,
      "metadata": {
        "colab": {
          "base_uri": "https://localhost:8080/"
        },
        "id": "mqiM6kSNYBsm",
        "outputId": "020cb74c-7e55-4eba-df20-3b7f8ec8ac1e"
      },
      "outputs": [
        {
          "output_type": "stream",
          "name": "stdout",
          "text": [
            "('7', 'vision', 'a', 'cage', 'sage', '34', '12')\n"
          ]
        }
      ],
      "source": [
        "def revtup(tup1):\n",
        "    tuple = tup1[::-1] #list[<start>:<stop>:<step>]\n",
        "    return tuple\n",
        "\n",
        "print(revtup(tup1))"
      ]
    },
    {
      "cell_type": "code",
      "execution_count": 3,
      "metadata": {
        "colab": {
          "base_uri": "https://localhost:8080/"
        },
        "id": "c2IBSmUoYBsn",
        "outputId": "77173fe5-c184-4e82-c065-a89efc92d1ed"
      },
      "outputs": [
        {
          "output_type": "stream",
          "name": "stdout",
          "text": [
            "('12', '34', 'sage', 'cage', 'a', 'vision', '7') ('7', 'vision', 'a', 'cage', 'sage', '34', '12')\n"
          ]
        }
      ],
      "source": [
        "tup2 = tup1[::-1]\n",
        "print(tup1,tup2)"
      ]
    },
    {
      "cell_type": "code",
      "execution_count": 4,
      "metadata": {
        "colab": {
          "base_uri": "https://localhost:8080/"
        },
        "id": "NEGk0TlTYBsn",
        "outputId": "916bc558-86ec-4929-bfef-2588968f5ebd"
      },
      "outputs": [
        {
          "output_type": "stream",
          "name": "stdout",
          "text": [
            "{'12': '7', '34': 'vision', 'sage': 'a', 'cage': 'cage', 'a': 'sage', 'vision': '34', '7': '12'}\n"
          ]
        }
      ],
      "source": [
        "tup_dict = dict(zip(tup1,tup2))\n",
        "print(tup_dict)"
      ]
    },
    {
      "cell_type": "code",
      "execution_count": 5,
      "metadata": {
        "colab": {
          "base_uri": "https://localhost:8080/"
        },
        "id": "SE1Ad2CjYBso",
        "outputId": "12bf4fbb-ad31-4e14-eee1-274351c56d23"
      },
      "outputs": [
        {
          "output_type": "stream",
          "name": "stdout",
          "text": [
            "{'34': 'vision', 'sage': 'a', 'cage': 'cage', 'a': 'sage', 'vision': '34', '7': '12', 'twelve': '7'}\n"
          ]
        }
      ],
      "source": [
        "\n",
        "tup_dict[\"twelve\"] = tup_dict.pop(\"12\")\n",
        "print(tup_dict)"
      ]
    },
    {
      "cell_type": "markdown",
      "source": [
        "We can also use the reversed() built-in function to reverse a tuple.\n",
        "\n",
        "The reversed function takes a sequence and returns a reverse iterator object."
      ],
      "metadata": {
        "id": "iPM6sraojIL7"
      }
    },
    {
      "cell_type": "code",
      "source": [
        "tup1 = (\"12\", \"34\", \"sage\", \"cage\", \"a\", \"vision\", \"7\")\n",
        "revtup = tuple(reversed(tup1))\n",
        "revtup"
      ],
      "metadata": {
        "colab": {
          "base_uri": "https://localhost:8080/"
        },
        "id": "6DYeSTi4bR3S",
        "outputId": "6bde37eb-297f-4f09-ca10-408c1d3d2f6e"
      },
      "execution_count": 6,
      "outputs": [
        {
          "output_type": "execute_result",
          "data": {
            "text/plain": [
              "('7', 'vision', 'a', 'cage', 'sage', '34', '12')"
            ]
          },
          "metadata": {},
          "execution_count": 6
        }
      ]
    }
  ],
  "metadata": {
    "kernelspec": {
      "display_name": "Python 3",
      "language": "python",
      "name": "python3"
    },
    "language_info": {
      "codemirror_mode": {
        "name": "ipython",
        "version": 3
      },
      "file_extension": ".py",
      "mimetype": "text/x-python",
      "name": "python",
      "nbconvert_exporter": "python",
      "pygments_lexer": "ipython3",
      "version": "3.6.5"
    },
    "colab": {
      "provenance": [],
      "collapsed_sections": [],
      "include_colab_link": true
    }
  },
  "nbformat": 4,
  "nbformat_minor": 0
}