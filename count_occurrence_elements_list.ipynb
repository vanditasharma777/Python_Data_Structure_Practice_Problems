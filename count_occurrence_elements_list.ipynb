{
  "cells": [
    {
      "cell_type": "markdown",
      "metadata": {
        "id": "view-in-github",
        "colab_type": "text"
      },
      "source": [
        "<a href=\"https://colab.research.google.com/github/vanditasharma777/Python_Data_Structure_Practice_Problems/blob/main/count_occurrence_elements_list.ipynb\" target=\"_parent\"><img src=\"https://colab.research.google.com/assets/colab-badge.svg\" alt=\"Open In Colab\"/></a>"
      ]
    },
    {
      "cell_type": "markdown",
      "metadata": {
        "id": "-GMJIfYD3XFB"
      },
      "source": [
        "### Count the occurrence of each element from a list\n"
      ]
    },
    {
      "cell_type": "code",
      "execution_count": 1,
      "metadata": {
        "id": "21mEtWj63XFI"
      },
      "outputs": [],
      "source": [
        "x= [\"1\",\"3\",\"2\",\"4\",\"5\",\"6\",\"2\",\"1\",\"4\",\"4\",\"3\"]\n"
      ]
    },
    {
      "cell_type": "code",
      "execution_count": 2,
      "metadata": {
        "id": "0KQxDC6K3XFK",
        "outputId": "f420892a-22e7-49ec-82f5-53fb2db87d81",
        "colab": {
          "base_uri": "https://localhost:8080/"
        }
      },
      "outputs": [
        {
          "output_type": "execute_result",
          "data": {
            "text/plain": [
              "['1', '3', '2', '4', '5', '6', '2', '1', '4', '4', '3']"
            ]
          },
          "metadata": {},
          "execution_count": 2
        }
      ],
      "source": [
        "x"
      ]
    },
    {
      "cell_type": "code",
      "execution_count": 6,
      "metadata": {
        "id": "apkWtSbr3XFM"
      },
      "outputs": [],
      "source": [
        "c1,c2,c3,c4,c5,c6 = x.count(\"1\"), x.count(\"2\"), x.count(\"3\"), x.count(\"4\"), x.count(\"5\"), x.count(\"6\")"
      ]
    },
    {
      "cell_type": "code",
      "source": [
        "c1, c2, c3, c4,c5,c6"
      ],
      "metadata": {
        "colab": {
          "base_uri": "https://localhost:8080/"
        },
        "id": "2FdoZ8jlaZ0n",
        "outputId": "1d4332da-1ada-40c2-ea08-9de6e763e25c"
      },
      "execution_count": 9,
      "outputs": [
        {
          "output_type": "execute_result",
          "data": {
            "text/plain": [
              "(2, 2, 2, 3, 1, 1)"
            ]
          },
          "metadata": {},
          "execution_count": 9
        }
      ]
    },
    {
      "cell_type": "code",
      "source": [
        "#method 2\n",
        "def countX(lst, x):\n",
        "    count = 0\n",
        "    for ele in lst:\n",
        "        if (ele == x):\n",
        "            count = count + 1\n",
        "    return count\n",
        " \n",
        " \n",
        "# Driver Code\n",
        "List1 = [8, 6, 8, 10, 8, 20, 10, 8, 8]\n",
        "x = 8\n",
        "print('{} has occurred {} times'.format(x, countX(List1, x)))"
      ],
      "metadata": {
        "colab": {
          "base_uri": "https://localhost:8080/"
        },
        "id": "yEaINiXUb-nb",
        "outputId": "e8258896-75c6-4272-e9ee-ef9d114e10ee"
      },
      "execution_count": 11,
      "outputs": [
        {
          "output_type": "stream",
          "name": "stdout",
          "text": [
            "8 has occurred 5 times\n"
          ]
        }
      ]
    },
    {
      "cell_type": "code",
      "source": [
        "#method3\n",
        "from collections import Counter\n",
        " \n",
        "List2 = [1, 1, 2, 2, 3, 3, 4, 4, 5, 5]\n",
        "x = 3\n",
        "d = Counter(List2)\n",
        "print('{} has occurred {} times'.format(x, d[x]))"
      ],
      "metadata": {
        "colab": {
          "base_uri": "https://localhost:8080/"
        },
        "id": "CPUpytTUcVan",
        "outputId": "e35de542-b273-4ac3-ae7a-f0f76a642d90"
      },
      "execution_count": 14,
      "outputs": [
        {
          "output_type": "stream",
          "name": "stdout",
          "text": [
            "3 has occurred 2 times\n"
          ]
        }
      ]
    },
    {
      "cell_type": "code",
      "source": [
        "#method 4\n",
        "import operator as op\n",
        "occurence4 = op.countOf(List2,4)\n",
        "print(occurence4)"
      ],
      "metadata": {
        "colab": {
          "base_uri": "https://localhost:8080/"
        },
        "id": "z7LeYtl4cxM7",
        "outputId": "334ac77e-676a-4097-8931-47d150382dbd"
      },
      "execution_count": 15,
      "outputs": [
        {
          "output_type": "stream",
          "name": "stdout",
          "text": [
            "2\n"
          ]
        }
      ]
    },
    {
      "cell_type": "code",
      "source": [
        "# method 5, using pandas library\n",
        "import pandas as pd \n",
        "count = pd.Series(List2).value_counts()\n",
        "print(\"Element Count\")\n",
        "print(count)"
      ],
      "metadata": {
        "colab": {
          "base_uri": "https://localhost:8080/"
        },
        "id": "DI1nW8HSdoy0",
        "outputId": "6d487653-a108-482a-e626-b5ef400b9758"
      },
      "execution_count": 16,
      "outputs": [
        {
          "output_type": "stream",
          "name": "stdout",
          "text": [
            "Element Count\n",
            "1    2\n",
            "2    2\n",
            "3    2\n",
            "4    2\n",
            "5    2\n",
            "dtype: int64\n"
          ]
        }
      ]
    },
    {
      "cell_type": "code",
      "source": [
        "# method 6, using list comprehension\n",
        "\n",
        "ele=5\n",
        "x=[i for i in List2 if i==ele]\n",
        "print(\"The element\",ele,\"occurs\",len(x),\"times\")"
      ],
      "metadata": {
        "colab": {
          "base_uri": "https://localhost:8080/"
        },
        "id": "ZWwdls9CeDoU",
        "outputId": "9d479411-1d7d-44ff-e0fe-309c63d29e0b"
      },
      "execution_count": 17,
      "outputs": [
        {
          "output_type": "stream",
          "name": "stdout",
          "text": [
            "the element 5 occurs 2 times\n"
          ]
        }
      ]
    },
    {
      "cell_type": "code",
      "source": [
        "# method 6, using dict comprehension\n",
        "\n",
        "list3 = ['a', 'd', 'd', 'c', 'a', 'b', 'b', 'a', 'c', 'd', 'e']\n",
        "occurrence = {item: list3.count(item) for item in list3}\n",
        "print(occurrence.get('d'))"
      ],
      "metadata": {
        "colab": {
          "base_uri": "https://localhost:8080/"
        },
        "id": "lb4W-AbEednl",
        "outputId": "fc2a69ea-d9ba-4058-c0bc-b86e2ea3db5c"
      },
      "execution_count": 19,
      "outputs": [
        {
          "output_type": "stream",
          "name": "stdout",
          "text": [
            "3\n"
          ]
        }
      ]
    }
  ],
  "metadata": {
    "kernelspec": {
      "display_name": "Python 3",
      "language": "python",
      "name": "python3"
    },
    "language_info": {
      "codemirror_mode": {
        "name": "ipython",
        "version": 3
      },
      "file_extension": ".py",
      "mimetype": "text/x-python",
      "name": "python",
      "nbconvert_exporter": "python",
      "pygments_lexer": "ipython3",
      "version": "3.6.5"
    },
    "colab": {
      "provenance": [],
      "collapsed_sections": [],
      "include_colab_link": true
    }
  },
  "nbformat": 4,
  "nbformat_minor": 0
}