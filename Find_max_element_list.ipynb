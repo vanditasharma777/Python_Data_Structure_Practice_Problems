{
  "nbformat": 4,
  "nbformat_minor": 0,
  "metadata": {
    "colab": {
      "provenance": [],
      "collapsed_sections": [],
      "authorship_tag": "ABX9TyOARphJN7pCWWGh9b5D3fl4",
      "include_colab_link": true
    },
    "kernelspec": {
      "name": "python3",
      "display_name": "Python 3"
    },
    "language_info": {
      "name": "python"
    }
  },
  "cells": [
    {
      "cell_type": "markdown",
      "metadata": {
        "id": "view-in-github",
        "colab_type": "text"
      },
      "source": [
        "<a href=\"https://colab.research.google.com/github/vanditasharma777/Python_Data_Structure_Practice_Problems/blob/main/Find_max_element_list.ipynb\" target=\"_parent\"><img src=\"https://colab.research.google.com/assets/colab-badge.svg\" alt=\"Open In Colab\"/></a>"
      ]
    },
    {
      "cell_type": "markdown",
      "source": [
        "Find the largest item from a given list "
      ],
      "metadata": {
        "id": "llatzD_HIQjG"
      }
    },
    {
      "cell_type": "code",
      "execution_count": 4,
      "metadata": {
        "colab": {
          "base_uri": "https://localhost:8080/"
        },
        "id": "QKeojsCmDyQ0",
        "outputId": "bfb9ed12-66e2-40a0-a922-daeaf01500be"
      },
      "outputs": [
        {
          "output_type": "stream",
          "name": "stdout",
          "text": [
            "['1', '3', '89', '0', '45', '53']\n"
          ]
        }
      ],
      "source": [
        "List1 = ['1', '3', '89','0','45','53']\n",
        "print(List1)"
      ]
    },
    {
      "cell_type": "code",
      "source": [
        "List1.sort()\n",
        "print(List1)"
      ],
      "metadata": {
        "colab": {
          "base_uri": "https://localhost:8080/"
        },
        "id": "nBXP-ky3hWVy",
        "outputId": "d7919871-8804-444f-b12e-6d60ff59f56c"
      },
      "execution_count": 5,
      "outputs": [
        {
          "output_type": "stream",
          "name": "stdout",
          "text": [
            "['0', '1', '3', '45', '53', '89']\n"
          ]
        }
      ]
    },
    {
      "cell_type": "code",
      "source": [
        "print(List1[-1])"
      ],
      "metadata": {
        "colab": {
          "base_uri": "https://localhost:8080/"
        },
        "id": "vOEG0d05huht",
        "outputId": "2f178817-f6f2-4709-f278-215088cd9211"
      },
      "execution_count": 6,
      "outputs": [
        {
          "output_type": "stream",
          "name": "stdout",
          "text": [
            "89\n"
          ]
        }
      ]
    },
    {
      "cell_type": "code",
      "source": [
        "print(max(List1))"
      ],
      "metadata": {
        "colab": {
          "base_uri": "https://localhost:8080/"
        },
        "id": "jGSLh5kjiSpi",
        "outputId": "372e2858-24c1-454d-a584-70d98b0d64aa"
      },
      "execution_count": 7,
      "outputs": [
        {
          "output_type": "stream",
          "name": "stdout",
          "text": [
            "89\n"
          ]
        }
      ]
    },
    {
      "cell_type": "code",
      "source": [
        "# python code to print largest element in the list \n",
        "lst = [20, 10, 20, 4, 100]\n",
        "print(max(lst, key=lambda value: int(value)) )"
      ],
      "metadata": {
        "colab": {
          "base_uri": "https://localhost:8080/"
        },
        "id": "uN98f7W5imrj",
        "outputId": "b61f93ed-ba9d-49e1-b6c4-8eda122eead1"
      },
      "execution_count": 8,
      "outputs": [
        {
          "output_type": "stream",
          "name": "stdout",
          "text": [
            "100\n"
          ]
        }
      ]
    },
    {
      "cell_type": "code",
      "source": [
        "# using reduce\n",
        "\n",
        "from functools import reduce\n",
        "lst = [20, 10, 5, 20, 4, 100,1050]\n",
        "largest_elem = reduce(max, lst)\n",
        "print(largest_elem)"
      ],
      "metadata": {
        "colab": {
          "base_uri": "https://localhost:8080/"
        },
        "id": "Pp5z4DjoEYbv",
        "outputId": "c7cf7648-8e4d-410e-a1e2-0f89d460c902"
      },
      "execution_count": 9,
      "outputs": [
        {
          "output_type": "stream",
          "name": "stdout",
          "text": [
            "1050\n"
          ]
        }
      ]
    }
  ]
}